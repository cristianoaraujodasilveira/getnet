{
  "nbformat": 4,
  "nbformat_minor": 0,
  "metadata": {
    "colab": {
      "name": "_desafio.ipynb",
      "provenance": [],
      "collapsed_sections": [],
      "mount_file_id": "1e2ZkpneopSp5PiUfBZScTaTjvZAuEpe-",
      "authorship_tag": "ABX9TyPh0Tk0B4UbrydqiS/laqE4",
      "include_colab_link": true
    },
    "kernelspec": {
      "name": "python3",
      "display_name": "Python 3"
    },
    "language_info": {
      "name": "python"
    }
  },
  "cells": [
    {
      "cell_type": "markdown",
      "metadata": {
        "id": "view-in-github",
        "colab_type": "text"
      },
      "source": [
        "<a href=\"https://colab.research.google.com/github/cristianoaraujodasilveira/getnet/blob/main/desafio.ipynb\" target=\"_parent\"><img src=\"https://colab.research.google.com/assets/colab-badge.svg\" alt=\"Open In Colab\"/></a>"
      ]
    },
    {
      "cell_type": "code",
      "metadata": {
        "id": "Fy4uCv074NAg"
      },
      "source": [
        "# instalar as dependências\n",
        "!apt-get install openjdk-8-jdk-headless -qq > /dev/null\n",
        "!wget -q https://archive.apache.org/dist/spark/spark-2.4.4/spark-2.4.4-bin-hadoop2.7.tgz\n",
        "!tar xf spark-2.4.4-bin-hadoop2.7.tgz\n",
        "!pip install -q findspark"
      ],
      "execution_count": 12,
      "outputs": []
    },
    {
      "cell_type": "code",
      "metadata": {
        "id": "LjBQMJYQ4kkX"
      },
      "source": [
        "# configurar as variáveis de ambiente\n",
        "import os\n",
        "os.environ[\"JAVA_HOME\"] = \"/usr/lib/jvm/java-8-openjdk-amd64\"\n",
        "os.environ[\"SPARK_HOME\"] = \"/content/spark-2.4.4-bin-hadoop2.7\"\n",
        "\n",
        "# tornar o pyspark \"importável\"\n",
        "import findspark\n",
        "findspark.init('spark-2.4.4-bin-hadoop2.7')"
      ],
      "execution_count": 13,
      "outputs": []
    },
    {
      "cell_type": "code",
      "metadata": {
        "id": "QuEGmnsR498Y"
      },
      "source": [
        "# iniciar uma sessão local\n",
        "from pyspark.sql import SparkSession\n",
        "spark = SparkSession.builder.master('local[*]').getOrCreate()"
      ],
      "execution_count": 4,
      "outputs": []
    },
    {
      "cell_type": "code",
      "metadata": {
        "id": "smRYGirx5ECb"
      },
      "source": [
        "#criando uma base de teste - contratos\n",
        "import csv\n",
        "\n",
        "header = [\"contract_id\", \"client_id\", \"client_name\", \"percentage\", \"is_active\"]\n",
        "\n",
        "data = [  \n",
        "  [3, 3545, \"Magazine Luana\", 2.00, True],\n",
        "  [4, 3545, \"Magazine Luana\", 1.95, False],\n",
        "  [5, 3509, \"Lojas Italianas\", 1, True],\n",
        "  [6, 3510, \"Carrerfive\", 3.00, True]\n",
        "]\n",
        "\n",
        "with open('contratos.csv', 'w') as f:\n",
        "  writer = csv.writer(f)\n",
        "  writer.writerow(header)\n",
        "  writer.writerows(data)  \n",
        "\n",
        "\n",
        "header = [\"transaction_id\", \"client_id\", \"total_amount\", \"discount_percentage\"]\n",
        "\n",
        "data = [  \n",
        "  [1, 3545, 3000, 6.99],\n",
        "  [2, 3545, 4500, 0.45],\n",
        "  [3, 3509, 69998, 0],\n",
        "  [4, 3510, 1, None],\n",
        "  [5, 4510, 34, 40]\n",
        "]\n",
        "\n",
        "with open('transacoes.csv', 'w') as f:\n",
        "  writer = csv.writer(f)\n",
        "  writer.writerow(header)\n",
        "  writer.writerows(data)    "
      ],
      "execution_count": 9,
      "outputs": []
    },
    {
      "cell_type": "code",
      "metadata": {
        "id": "axg4QZ0w68j7"
      },
      "source": [
        "from pyspark.sql.functions import udf, array\n",
        "from pyspark.sql.types import FloatType"
      ],
      "execution_count": 5,
      "outputs": []
    },
    {
      "cell_type": "code",
      "metadata": {
        "id": "t_2Wyu1a7Vel"
      },
      "source": [
        "#carregar dados \n",
        "df_c = spark.read.option(\"inferSchema\", \"true\").option(\"header\",True).option(\"delimiter\", \",\").csv(\"contratos.csv\")\n",
        "df_t = spark.read.option(\"inferSchema\", \"true\").option(\"header\",True).option(\"delimiter\", \",\").csv(\"transacoes.csv\")"
      ],
      "execution_count": 12,
      "outputs": []
    },
    {
      "cell_type": "code",
      "metadata": {
        "id": "0KpI9wdc7fEo"
      },
      "source": [
        "#aplicando transformações\n",
        "df = df_t.join(df_c, df_c.client_id == df_t.client_id, 'inner').filter(df_c.is_active == True)\n",
        "\n",
        "#conversão de tipo de campos\n",
        "df = df.withColumn(\"total_amount\",df.total_amount.cast('float'))\n",
        "df = df.withColumn(\"discount_percentage\",df.discount_percentage.cast('float'))\n",
        "\n",
        "#adicionando valor liquido\n",
        "def get_net_value(x):\n",
        "    discount_percentage, total_amount = x\n",
        "    if not isinstance(discount_percentage, (float)):\n",
        "        discount_percentage = 0.0        \n",
        "    net_value = (total_amount-((total_amount*discount_percentage)/100.0))\n",
        "    return net_value\n",
        "\n",
        "udf_get_net_value = udf(lambda x: get_net_value(x), returnType=FloatType())\n",
        "df = df.withColumn(\"net_value\", udf_get_net_value(array(df.discount_percentage, df.total_amount)))\n",
        "\n",
        "#adicionando valor ganho\n",
        "def get_earned_value(x):\n",
        "    net_value, percentage = x\n",
        "    earned_value = ((net_value * percentage)/100.0)\n",
        "    return earned_value\n",
        "udf_get_earned_value = udf(lambda x: get_earned_value(x), returnType=FloatType())\n",
        "df = df.withColumn(\"earned_value\", udf_get_earned_value(array(df.net_value, df.percentage)))"
      ],
      "execution_count": 15,
      "outputs": []
    },
    {
      "cell_type": "code",
      "metadata": {
        "colab": {
          "base_uri": "https://localhost:8080/"
        },
        "id": "WEhHDrEb8aHe",
        "outputId": "7cf9315b-9196-4c38-9fdd-25a4a027cb80"
      },
      "source": [
        "#extraindo informação de ganho total\n",
        "df.createOrReplaceTempView(\"vendas\")\n",
        "total_gain = spark.sql(\"\"\"select round(sum(earned_value), 2) as total_gain from vendas\"\"\").collect()[0]['total_gain']\n",
        "print(f\"total ganho = {total_gain}\")"
      ],
      "execution_count": 16,
      "outputs": [
        {
          "output_type": "stream",
          "text": [
            "total = 845.41\n"
          ],
          "name": "stdout"
        }
      ]
    }
  ]
}